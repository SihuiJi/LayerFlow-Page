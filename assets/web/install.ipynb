{
 "cells": [
  {
   "cell_type": "code",
   "execution_count": 9,
   "metadata": {},
   "outputs": [
    {
     "name": "stdout",
     "output_type": "stream",
     "text": [
      "Defaulting to user installation because normal site-packages is not writeable\n",
      "Looking in indexes: https://pypi.tuna.tsinghua.edu.cn/simple\n",
      "Requirement already satisfied: imageio[ffmpeg] in /Users/sihuiji/Library/Python/3.9/lib/python/site-packages (2.37.0)\n",
      "Requirement already satisfied: numpy in /Users/sihuiji/Library/Python/3.9/lib/python/site-packages (from imageio[ffmpeg]) (2.0.2)\n",
      "Requirement already satisfied: pillow>=8.3.2 in /Users/sihuiji/Library/Python/3.9/lib/python/site-packages (from imageio[ffmpeg]) (11.0.0)\n",
      "Collecting imageio-ffmpeg (from imageio[ffmpeg])\n",
      "  Downloading https://pypi.tuna.tsinghua.edu.cn/packages/40/5c/f3d8a657d362cc93b81aab8feda487317da5b5d31c0e1fdfd5e986e55d17/imageio_ffmpeg-0.6.0-py3-none-macosx_11_0_arm64.whl (21.1 MB)\n",
      "\u001b[2K     \u001b[90m━━━━━━━━━━━━━━━━━━━━━━━━━━━━━━━━━━━━━━━━\u001b[0m \u001b[32m21.1/21.1 MB\u001b[0m \u001b[31m34.5 MB/s\u001b[0m eta \u001b[36m0:00:00\u001b[0ma \u001b[36m0:00:01\u001b[0m\n",
      "\u001b[?25hRequirement already satisfied: psutil in /Users/sihuiji/Library/Python/3.9/lib/python/site-packages (from imageio[ffmpeg]) (6.1.0)\n",
      "Installing collected packages: imageio-ffmpeg\n",
      "Successfully installed imageio-ffmpeg-0.6.0\n"
     ]
    }
   ],
   "source": [
    "\n",
    "# ! pip config set global.index-url https://pypi.tuna.tsinghua.edu.cn/simple\n",
    "# ! pip install opencv-python\n",
    "! pip install 'imageio[ffmpeg]'\n",
    "\n",
    "\n"
   ]
  }
 ],
 "metadata": {
  "kernelspec": {
   "display_name": "Python 3",
   "language": "python",
   "name": "python3"
  },
  "language_info": {
   "codemirror_mode": {
    "name": "ipython",
    "version": 3
   },
   "file_extension": ".py",
   "mimetype": "text/x-python",
   "name": "python",
   "nbconvert_exporter": "python",
   "pygments_lexer": "ipython3",
   "version": "3.9.6"
  }
 },
 "nbformat": 4,
 "nbformat_minor": 2
}
